{
  "nbformat": 4,
  "nbformat_minor": 0,
  "metadata": {
    "colab": {
      "provenance": []
    },
    "kernelspec": {
      "name": "python3",
      "display_name": "Python 3"
    },
    "language_info": {
      "name": "python"
    }
  },
  "cells": [
    {
      "cell_type": "code",
      "execution_count": null,
      "metadata": {
        "colab": {
          "base_uri": "https://localhost:8080/"
        },
        "id": "Zo4mqPSeExSG",
        "outputId": "cf70bfc2-7261-44cf-8040-193b9e09c65f"
      },
      "outputs": [
        {
          "output_type": "stream",
          "name": "stdout",
          "text": [
            "Digite um número 1\n",
            "este número é positivo\n"
          ]
        }
      ],
      "source": [
        "a=int (input (\"Digite um número \"))\n",
        "b= 0\n",
        "if a > b :print (\"este número é positivo\")\n",
        "elif  a == b :print (\"O número zero não é válido, digite outro número \")\n",
        "else :print (\"este número é negativo\")"
      ]
    },
    {
      "cell_type": "code",
      "source": [
        "from re import M\n",
        "\n",
        "a= (input (\"Digite M para masculino ou F para feminino \"))\n",
        "\n",
        "if a==\"M\"or a==\"m\":\n",
        "  print(\"você é homem\")\n",
        "else :print(\"você é Mulher\")\n",
        "\n"
      ],
      "metadata": {
        "id": "zkpTimgMY_6_",
        "colab": {
          "base_uri": "https://localhost:8080/"
        },
        "outputId": "97e5e22a-11da-4439-e1fb-5b6c0677b703"
      },
      "execution_count": null,
      "outputs": [
        {
          "output_type": "stream",
          "name": "stdout",
          "text": [
            "Digite M para masculino ou F para feminino f\n",
            "você é Mulher\n"
          ]
        }
      ]
    },
    {
      "cell_type": "code",
      "source": [],
      "metadata": {
        "id": "nPfOKq4dEMoi"
      },
      "execution_count": null,
      "outputs": []
    },
    {
      "cell_type": "code",
      "source": [],
      "metadata": {
        "id": "FoV5tyQmHheP"
      },
      "execution_count": null,
      "outputs": []
    },
    {
      "cell_type": "code",
      "source": [],
      "metadata": {
        "id": "nYVnd89uR3Td"
      },
      "execution_count": null,
      "outputs": []
    },
    {
      "cell_type": "markdown",
      "source": [],
      "metadata": {
        "id": "jDsTFlelHilX"
      }
    },
    {
      "cell_type": "code",
      "source": [],
      "metadata": {
        "id": "IXf5XcqFHkAX"
      },
      "execution_count": null,
      "outputs": []
    },
    {
      "cell_type": "code",
      "source": [],
      "metadata": {
        "id": "qPOyyl4DQrhw"
      },
      "execution_count": null,
      "outputs": []
    },
    {
      "cell_type": "code",
      "source": [
        "t= (input (\"Digite uma letra \"))\n",
        "if t==\"a\" or  t==\"A\" or t==\"e\" or t==\"E\" or t==\"I\" or t==\"i\" or t==\"o\" or t==\"O\" or t==\"u\" or t==\"U\":\n",
        "  print(\"Você selecionou uma VOGAL!!! \")\n",
        "else :print (\"voce selecionou uma consoante\")"
      ],
      "metadata": {
        "colab": {
          "base_uri": "https://localhost:8080/"
        },
        "id": "oNFWEq6JKNtR",
        "outputId": "1fab7ad8-3682-4958-c533-ba12d8c8db11"
      },
      "execution_count": null,
      "outputs": [
        {
          "output_type": "stream",
          "name": "stdout",
          "text": [
            "Digite uma letra T\n",
            "voce selecionou uma consoante\n"
          ]
        }
      ]
    },
    {
      "cell_type": "code",
      "source": [
        "parcial1=float((input (\"Digite a nota da primeira parcial \")))\n",
        "parcial2= float((input (\"Digite a nota da segunda parcial \")))\n",
        "media = (parcial1+parcial2)/2\n",
        "if media == 10:\n",
        " print(\"aprovada com distincao\")\n",
        "elif media >=7:\n",
        "  print(\"aprovada\")\n",
        "else:\n",
        "  print(\"reprovada\")\n",
        "\n",
        "\n",
        "\n"
      ],
      "metadata": {
        "id": "JG5KRLVAE8fp"
      },
      "execution_count": null,
      "outputs": []
    },
    {
      "cell_type": "code",
      "source": [
        "\n",
        "x1=(input(\"digite um numero\"))\n",
        "x2=(input(\"Digite outro numero\"))\n",
        "x3=(input(\"Digite novamente um numero\"))\n",
        "if x1>x2 and x1>x3:\n",
        "  print(x1)\n",
        "elif x2>x1 and x2>x3:\n",
        "  print(x2)\n",
        "else:\n",
        "    print(x3)\n"
      ],
      "metadata": {
        "id": "19YtdkOQlVG-",
        "colab": {
          "base_uri": "https://localhost:8080/",
          "height": 356
        },
        "outputId": "5b59862d-cf43-4810-bfcf-0a7ddca0e1a0"
      },
      "execution_count": null,
      "outputs": [
        {
          "output_type": "error",
          "ename": "KeyboardInterrupt",
          "evalue": "Interrupted by user",
          "traceback": [
            "\u001b[0;31m---------------------------------------------------------------------------\u001b[0m",
            "\u001b[0;31mKeyboardInterrupt\u001b[0m                         Traceback (most recent call last)",
            "\u001b[0;32m<ipython-input-12-c0fb01c9ae28>\u001b[0m in \u001b[0;36m<cell line: 1>\u001b[0;34m()\u001b[0m\n\u001b[0;32m----> 1\u001b[0;31m \u001b[0mx1\u001b[0m\u001b[0;34m=\u001b[0m\u001b[0;34m(\u001b[0m\u001b[0minput\u001b[0m\u001b[0;34m(\u001b[0m\u001b[0;34m\"digite um numero\"\u001b[0m\u001b[0;34m)\u001b[0m\u001b[0;34m)\u001b[0m\u001b[0;34m\u001b[0m\u001b[0;34m\u001b[0m\u001b[0m\n\u001b[0m\u001b[1;32m      2\u001b[0m \u001b[0mx2\u001b[0m\u001b[0;34m=\u001b[0m\u001b[0;34m(\u001b[0m\u001b[0minput\u001b[0m\u001b[0;34m(\u001b[0m\u001b[0;34m\"Digite outro numero\"\u001b[0m\u001b[0;34m)\u001b[0m\u001b[0;34m)\u001b[0m\u001b[0;34m\u001b[0m\u001b[0;34m\u001b[0m\u001b[0m\n\u001b[1;32m      3\u001b[0m \u001b[0mx3\u001b[0m\u001b[0;34m=\u001b[0m\u001b[0;34m(\u001b[0m\u001b[0minput\u001b[0m\u001b[0;34m(\u001b[0m\u001b[0;34m\"Digite novamente um numero\"\u001b[0m\u001b[0;34m)\u001b[0m\u001b[0;34m)\u001b[0m\u001b[0;34m\u001b[0m\u001b[0;34m\u001b[0m\u001b[0m\n\u001b[1;32m      4\u001b[0m \u001b[0;32mif\u001b[0m \u001b[0mx1\u001b[0m\u001b[0;34m>\u001b[0m\u001b[0mx2\u001b[0m \u001b[0;32mand\u001b[0m \u001b[0mx1\u001b[0m\u001b[0;34m>\u001b[0m\u001b[0mx3\u001b[0m\u001b[0;34m:\u001b[0m\u001b[0;34m\u001b[0m\u001b[0;34m\u001b[0m\u001b[0m\n\u001b[1;32m      5\u001b[0m   \u001b[0mprint\u001b[0m\u001b[0;34m(\u001b[0m\u001b[0mx1\u001b[0m\u001b[0;34m)\u001b[0m\u001b[0;34m\u001b[0m\u001b[0;34m\u001b[0m\u001b[0m\n",
            "\u001b[0;32m/usr/local/lib/python3.10/dist-packages/ipykernel/kernelbase.py\u001b[0m in \u001b[0;36mraw_input\u001b[0;34m(self, prompt)\u001b[0m\n\u001b[1;32m    849\u001b[0m                 \u001b[0;34m\"raw_input was called, but this frontend does not support input requests.\"\u001b[0m\u001b[0;34m\u001b[0m\u001b[0;34m\u001b[0m\u001b[0m\n\u001b[1;32m    850\u001b[0m             )\n\u001b[0;32m--> 851\u001b[0;31m         return self._input_request(str(prompt),\n\u001b[0m\u001b[1;32m    852\u001b[0m             \u001b[0mself\u001b[0m\u001b[0;34m.\u001b[0m\u001b[0m_parent_ident\u001b[0m\u001b[0;34m,\u001b[0m\u001b[0;34m\u001b[0m\u001b[0;34m\u001b[0m\u001b[0m\n\u001b[1;32m    853\u001b[0m             \u001b[0mself\u001b[0m\u001b[0;34m.\u001b[0m\u001b[0m_parent_header\u001b[0m\u001b[0;34m,\u001b[0m\u001b[0;34m\u001b[0m\u001b[0;34m\u001b[0m\u001b[0m\n",
            "\u001b[0;32m/usr/local/lib/python3.10/dist-packages/ipykernel/kernelbase.py\u001b[0m in \u001b[0;36m_input_request\u001b[0;34m(self, prompt, ident, parent, password)\u001b[0m\n\u001b[1;32m    893\u001b[0m             \u001b[0;32mexcept\u001b[0m \u001b[0mKeyboardInterrupt\u001b[0m\u001b[0;34m:\u001b[0m\u001b[0;34m\u001b[0m\u001b[0;34m\u001b[0m\u001b[0m\n\u001b[1;32m    894\u001b[0m                 \u001b[0;31m# re-raise KeyboardInterrupt, to truncate traceback\u001b[0m\u001b[0;34m\u001b[0m\u001b[0;34m\u001b[0m\u001b[0m\n\u001b[0;32m--> 895\u001b[0;31m                 \u001b[0;32mraise\u001b[0m \u001b[0mKeyboardInterrupt\u001b[0m\u001b[0;34m(\u001b[0m\u001b[0;34m\"Interrupted by user\"\u001b[0m\u001b[0;34m)\u001b[0m \u001b[0;32mfrom\u001b[0m \u001b[0;32mNone\u001b[0m\u001b[0;34m\u001b[0m\u001b[0;34m\u001b[0m\u001b[0m\n\u001b[0m\u001b[1;32m    896\u001b[0m             \u001b[0;32mexcept\u001b[0m \u001b[0mException\u001b[0m \u001b[0;32mas\u001b[0m \u001b[0me\u001b[0m\u001b[0;34m:\u001b[0m\u001b[0;34m\u001b[0m\u001b[0;34m\u001b[0m\u001b[0m\n\u001b[1;32m    897\u001b[0m                 \u001b[0mself\u001b[0m\u001b[0;34m.\u001b[0m\u001b[0mlog\u001b[0m\u001b[0;34m.\u001b[0m\u001b[0mwarning\u001b[0m\u001b[0;34m(\u001b[0m\u001b[0;34m\"Invalid Message:\"\u001b[0m\u001b[0;34m,\u001b[0m \u001b[0mexc_info\u001b[0m\u001b[0;34m=\u001b[0m\u001b[0;32mTrue\u001b[0m\u001b[0;34m)\u001b[0m\u001b[0;34m\u001b[0m\u001b[0;34m\u001b[0m\u001b[0m\n",
            "\u001b[0;31mKeyboardInterrupt\u001b[0m: Interrupted by user"
          ]
        }
      ]
    },
    {
      "cell_type": "code",
      "source": [
        "a=(input(\"Digite um número\"))\n",
        "b=(input(\"Digite outro número\"))\n",
        "c=(input(\"Digite outre número\"))\n",
        "if a>b and a>c:\n",
        "  print(\"a é o maior número\")\n",
        "elif b>a and b>c:\n",
        "  print(\"b é o maior número\")\n",
        "else:\n",
        "    print(\"c é o maior número\")\n",
        "if a<b and a<c:\n",
        "  print(\"a é o menor número\")\n",
        "elif b<a and b<c:\n",
        "    print( \"b é o menor número\")\n",
        "else:\n",
        "  print(\"c é o menor número\")\n"
      ],
      "metadata": {
        "id": "cQfF1gO6Nq8P",
        "colab": {
          "base_uri": "https://localhost:8080/",
          "height": 356
        },
        "outputId": "48d3274b-7c88-41bf-cd40-bc61f3f4bb75"
      },
      "execution_count": null,
      "outputs": [
        {
          "output_type": "error",
          "ename": "KeyboardInterrupt",
          "evalue": "Interrupted by user",
          "traceback": [
            "\u001b[0;31m---------------------------------------------------------------------------\u001b[0m",
            "\u001b[0;31mKeyboardInterrupt\u001b[0m                         Traceback (most recent call last)",
            "\u001b[0;32m<ipython-input-19-8c90109fdc42>\u001b[0m in \u001b[0;36m<cell line: 1>\u001b[0;34m()\u001b[0m\n\u001b[0;32m----> 1\u001b[0;31m \u001b[0ma\u001b[0m\u001b[0;34m=\u001b[0m\u001b[0;34m(\u001b[0m\u001b[0minput\u001b[0m\u001b[0;34m(\u001b[0m\u001b[0;34m\"Digite um número\"\u001b[0m\u001b[0;34m)\u001b[0m\u001b[0;34m)\u001b[0m\u001b[0;34m\u001b[0m\u001b[0;34m\u001b[0m\u001b[0m\n\u001b[0m\u001b[1;32m      2\u001b[0m \u001b[0mb\u001b[0m\u001b[0;34m=\u001b[0m\u001b[0;34m(\u001b[0m\u001b[0minput\u001b[0m\u001b[0;34m(\u001b[0m\u001b[0;34m\"Digite outro número\"\u001b[0m\u001b[0;34m)\u001b[0m\u001b[0;34m)\u001b[0m\u001b[0;34m\u001b[0m\u001b[0;34m\u001b[0m\u001b[0m\n\u001b[1;32m      3\u001b[0m \u001b[0mc\u001b[0m\u001b[0;34m=\u001b[0m\u001b[0;34m(\u001b[0m\u001b[0minput\u001b[0m\u001b[0;34m(\u001b[0m\u001b[0;34m\"Digite outre número\"\u001b[0m\u001b[0;34m)\u001b[0m\u001b[0;34m)\u001b[0m\u001b[0;34m\u001b[0m\u001b[0;34m\u001b[0m\u001b[0m\n\u001b[1;32m      4\u001b[0m \u001b[0;32mif\u001b[0m \u001b[0ma\u001b[0m\u001b[0;34m>\u001b[0m\u001b[0mb\u001b[0m \u001b[0;32mand\u001b[0m \u001b[0ma\u001b[0m\u001b[0;34m>\u001b[0m\u001b[0mc\u001b[0m\u001b[0;34m:\u001b[0m\u001b[0;34m\u001b[0m\u001b[0;34m\u001b[0m\u001b[0m\n\u001b[1;32m      5\u001b[0m   \u001b[0mprint\u001b[0m\u001b[0;34m(\u001b[0m\u001b[0;34m\"a é o maior número\"\u001b[0m\u001b[0;34m)\u001b[0m\u001b[0;34m\u001b[0m\u001b[0;34m\u001b[0m\u001b[0m\n",
            "\u001b[0;32m/usr/local/lib/python3.10/dist-packages/ipykernel/kernelbase.py\u001b[0m in \u001b[0;36mraw_input\u001b[0;34m(self, prompt)\u001b[0m\n\u001b[1;32m    849\u001b[0m                 \u001b[0;34m\"raw_input was called, but this frontend does not support input requests.\"\u001b[0m\u001b[0;34m\u001b[0m\u001b[0;34m\u001b[0m\u001b[0m\n\u001b[1;32m    850\u001b[0m             )\n\u001b[0;32m--> 851\u001b[0;31m         return self._input_request(str(prompt),\n\u001b[0m\u001b[1;32m    852\u001b[0m             \u001b[0mself\u001b[0m\u001b[0;34m.\u001b[0m\u001b[0m_parent_ident\u001b[0m\u001b[0;34m,\u001b[0m\u001b[0;34m\u001b[0m\u001b[0;34m\u001b[0m\u001b[0m\n\u001b[1;32m    853\u001b[0m             \u001b[0mself\u001b[0m\u001b[0;34m.\u001b[0m\u001b[0m_parent_header\u001b[0m\u001b[0;34m,\u001b[0m\u001b[0;34m\u001b[0m\u001b[0;34m\u001b[0m\u001b[0m\n",
            "\u001b[0;32m/usr/local/lib/python3.10/dist-packages/ipykernel/kernelbase.py\u001b[0m in \u001b[0;36m_input_request\u001b[0;34m(self, prompt, ident, parent, password)\u001b[0m\n\u001b[1;32m    893\u001b[0m             \u001b[0;32mexcept\u001b[0m \u001b[0mKeyboardInterrupt\u001b[0m\u001b[0;34m:\u001b[0m\u001b[0;34m\u001b[0m\u001b[0;34m\u001b[0m\u001b[0m\n\u001b[1;32m    894\u001b[0m                 \u001b[0;31m# re-raise KeyboardInterrupt, to truncate traceback\u001b[0m\u001b[0;34m\u001b[0m\u001b[0;34m\u001b[0m\u001b[0m\n\u001b[0;32m--> 895\u001b[0;31m                 \u001b[0;32mraise\u001b[0m \u001b[0mKeyboardInterrupt\u001b[0m\u001b[0;34m(\u001b[0m\u001b[0;34m\"Interrupted by user\"\u001b[0m\u001b[0;34m)\u001b[0m \u001b[0;32mfrom\u001b[0m \u001b[0;32mNone\u001b[0m\u001b[0;34m\u001b[0m\u001b[0;34m\u001b[0m\u001b[0m\n\u001b[0m\u001b[1;32m    896\u001b[0m             \u001b[0;32mexcept\u001b[0m \u001b[0mException\u001b[0m \u001b[0;32mas\u001b[0m \u001b[0me\u001b[0m\u001b[0;34m:\u001b[0m\u001b[0;34m\u001b[0m\u001b[0;34m\u001b[0m\u001b[0m\n\u001b[1;32m    897\u001b[0m                 \u001b[0mself\u001b[0m\u001b[0;34m.\u001b[0m\u001b[0mlog\u001b[0m\u001b[0;34m.\u001b[0m\u001b[0mwarning\u001b[0m\u001b[0;34m(\u001b[0m\u001b[0;34m\"Invalid Message:\"\u001b[0m\u001b[0;34m,\u001b[0m \u001b[0mexc_info\u001b[0m\u001b[0;34m=\u001b[0m\u001b[0;32mTrue\u001b[0m\u001b[0;34m)\u001b[0m\u001b[0;34m\u001b[0m\u001b[0;34m\u001b[0m\u001b[0m\n",
            "\u001b[0;31mKeyboardInterrupt\u001b[0m: Interrupted by user"
          ]
        }
      ]
    },
    {
      "cell_type": "code",
      "source": [
        "a=input(\"Digite o valor do produto um \")\n",
        "b=input(\"Digite o valor do produto dois \")\n",
        "c=(input(\"Digite o valor do produto tres \"))\n",
        "if a<b and a<c:\n",
        "  print(\"o primeiro produto é o mais barato\")\n",
        "elif b<a and b<c:\n",
        "  print(\"o segundo produto é o mais barato\")\n",
        "else:\n",
        "  print(\"o terceiro produto é o mais barato\")"
      ],
      "metadata": {
        "colab": {
          "base_uri": "https://localhost:8080/"
        },
        "id": "DtFl3DA2Vsu3",
        "outputId": "898243cc-a3e7-4c31-9665-1d268edb971a"
      },
      "execution_count": null,
      "outputs": [
        {
          "output_type": "stream",
          "name": "stdout",
          "text": [
            "Digite o valor do produto um 5\n",
            "Digite o valor do produto dois 1\n",
            "Digite o valor do produto tres 5\n",
            "o segundo produto é o mais barato\n"
          ]
        }
      ]
    },
    {
      "cell_type": "code",
      "source": [
        "a = float(input(\"Digite o primeiro número: \"))\n",
        "b = float(input(\"Digite o segundo número: \"))\n",
        "c = float(input(\"Digite o terceiro número: \"))\n",
        "\n",
        "if a >= b >= c:\n",
        "    print(\"Em ordem decrescente:\", a, b, c)\n",
        "elif a >= c >= b:\n",
        "    print(\"Em ordem decrescente:\", a, c, b)\n",
        "elif b >= a >= c:\n",
        "    print(\"Em ordem decrescente:\", b, a, c)\n",
        "elif b >= c >= a:\n",
        "    print(\"Em ordem decrescente:\", b, c, a)\n",
        "elif c >= a >= b:\n",
        "    print(\"Em ordem decrescente:\", c, a, b)\n",
        "else:\n",
        "    print(\"Em ordem decrescente:\", c, b, a)"
      ],
      "metadata": {
        "colab": {
          "base_uri": "https://localhost:8080/"
        },
        "id": "7sjYAq-daw1M",
        "outputId": "ba453340-2b23-4daf-90de-e4bedf5a4307"
      },
      "execution_count": null,
      "outputs": [
        {
          "output_type": "stream",
          "name": "stdout",
          "text": [
            "Digite o primeiro número: 30\n",
            "Digite o segundo número: 20\n",
            "Digite o terceiro número: 10\n",
            "Em ordem decrescente: 30.0 20.0 10.0\n"
          ]
        }
      ]
    },
    {
      "cell_type": "markdown",
      "source": [],
      "metadata": {
        "id": "17_0yEQGuYGq"
      }
    },
    {
      "cell_type": "code",
      "source": [
        "turno = input(\"Em qual turno você estuda? Digite M para matutino, V para vespertino ou N para noturno: \")\n",
        "\n",
        "if turno == 'M' or turno == 'm':\n",
        "    print(\"Bom dia!\")\n",
        "elif turno == 'V' or turno == 'v':\n",
        "    print(\"Boa tarde!\")\n",
        "elif turno == 'N' or turno == 'n':\n",
        "    print(\"Boa noite!\")\n",
        "else:\n",
        "    print(\"Valor inválido!\")\n"
      ],
      "metadata": {
        "colab": {
          "base_uri": "https://localhost:8080/"
        },
        "id": "XA-o2Udtbv4d",
        "outputId": "d95569e7-8c64-497c-cfff-d56675649eb5"
      },
      "execution_count": null,
      "outputs": [
        {
          "output_type": "stream",
          "name": "stdout",
          "text": [
            "Em qual turno você estuda? Digite M para matutino, V para vespertino ou N para noturno: n\n",
            "Boa noite!\n"
          ]
        }
      ]
    },
    {
      "cell_type": "code",
      "source": [
        "num1 = float(input(\"Digite o primeiro número: \"))\n",
        "\n",
        "num2 = float(input(\"Digite o segundo número: \"))\n",
        "\n",
        "if num1 > num2:\n",
        "    print(\"O maior número é:\", num1)\n",
        "    print(\"O menor número é:\", num2)\n",
        "elif num2 >= num1:\n",
        "    print(\"O maior número é:\", num2)\n",
        "    print(\"O menor número é:\", num1)"
      ],
      "metadata": {
        "colab": {
          "base_uri": "https://localhost:8080/",
          "height": 356
        },
        "id": "CxzkgLaemuwk",
        "outputId": "f39eb288-d1d4-4dcc-c4ea-8635e83da60d"
      },
      "execution_count": null,
      "outputs": [
        {
          "output_type": "error",
          "ename": "KeyboardInterrupt",
          "evalue": "Interrupted by user",
          "traceback": [
            "\u001b[0;31m---------------------------------------------------------------------------\u001b[0m",
            "\u001b[0;31mKeyboardInterrupt\u001b[0m                         Traceback (most recent call last)",
            "\u001b[0;32m<ipython-input-41-9ca302481769>\u001b[0m in \u001b[0;36m<cell line: 1>\u001b[0;34m()\u001b[0m\n\u001b[0;32m----> 1\u001b[0;31m \u001b[0mnum1\u001b[0m \u001b[0;34m=\u001b[0m \u001b[0mfloat\u001b[0m\u001b[0;34m(\u001b[0m\u001b[0minput\u001b[0m\u001b[0;34m(\u001b[0m\u001b[0;34m\"Digite o primeiro número: \"\u001b[0m\u001b[0;34m)\u001b[0m\u001b[0;34m)\u001b[0m\u001b[0;34m\u001b[0m\u001b[0;34m\u001b[0m\u001b[0m\n\u001b[0m\u001b[1;32m      2\u001b[0m \u001b[0;34m\u001b[0m\u001b[0m\n\u001b[1;32m      3\u001b[0m \u001b[0mnum2\u001b[0m \u001b[0;34m=\u001b[0m \u001b[0mfloat\u001b[0m\u001b[0;34m(\u001b[0m\u001b[0minput\u001b[0m\u001b[0;34m(\u001b[0m\u001b[0;34m\"Digite o segundo número: \"\u001b[0m\u001b[0;34m)\u001b[0m\u001b[0;34m)\u001b[0m\u001b[0;34m\u001b[0m\u001b[0;34m\u001b[0m\u001b[0m\n\u001b[1;32m      4\u001b[0m \u001b[0;34m\u001b[0m\u001b[0m\n\u001b[1;32m      5\u001b[0m \u001b[0;32mif\u001b[0m \u001b[0mnum1\u001b[0m \u001b[0;34m>\u001b[0m \u001b[0mnum2\u001b[0m\u001b[0;34m:\u001b[0m\u001b[0;34m\u001b[0m\u001b[0;34m\u001b[0m\u001b[0m\n",
            "\u001b[0;32m/usr/local/lib/python3.10/dist-packages/ipykernel/kernelbase.py\u001b[0m in \u001b[0;36mraw_input\u001b[0;34m(self, prompt)\u001b[0m\n\u001b[1;32m    849\u001b[0m                 \u001b[0;34m\"raw_input was called, but this frontend does not support input requests.\"\u001b[0m\u001b[0;34m\u001b[0m\u001b[0;34m\u001b[0m\u001b[0m\n\u001b[1;32m    850\u001b[0m             )\n\u001b[0;32m--> 851\u001b[0;31m         return self._input_request(str(prompt),\n\u001b[0m\u001b[1;32m    852\u001b[0m             \u001b[0mself\u001b[0m\u001b[0;34m.\u001b[0m\u001b[0m_parent_ident\u001b[0m\u001b[0;34m,\u001b[0m\u001b[0;34m\u001b[0m\u001b[0;34m\u001b[0m\u001b[0m\n\u001b[1;32m    853\u001b[0m             \u001b[0mself\u001b[0m\u001b[0;34m.\u001b[0m\u001b[0m_parent_header\u001b[0m\u001b[0;34m,\u001b[0m\u001b[0;34m\u001b[0m\u001b[0;34m\u001b[0m\u001b[0m\n",
            "\u001b[0;32m/usr/local/lib/python3.10/dist-packages/ipykernel/kernelbase.py\u001b[0m in \u001b[0;36m_input_request\u001b[0;34m(self, prompt, ident, parent, password)\u001b[0m\n\u001b[1;32m    893\u001b[0m             \u001b[0;32mexcept\u001b[0m \u001b[0mKeyboardInterrupt\u001b[0m\u001b[0;34m:\u001b[0m\u001b[0;34m\u001b[0m\u001b[0;34m\u001b[0m\u001b[0m\n\u001b[1;32m    894\u001b[0m                 \u001b[0;31m# re-raise KeyboardInterrupt, to truncate traceback\u001b[0m\u001b[0;34m\u001b[0m\u001b[0;34m\u001b[0m\u001b[0m\n\u001b[0;32m--> 895\u001b[0;31m                 \u001b[0;32mraise\u001b[0m \u001b[0mKeyboardInterrupt\u001b[0m\u001b[0;34m(\u001b[0m\u001b[0;34m\"Interrupted by user\"\u001b[0m\u001b[0;34m)\u001b[0m \u001b[0;32mfrom\u001b[0m \u001b[0;32mNone\u001b[0m\u001b[0;34m\u001b[0m\u001b[0;34m\u001b[0m\u001b[0m\n\u001b[0m\u001b[1;32m    896\u001b[0m             \u001b[0;32mexcept\u001b[0m \u001b[0mException\u001b[0m \u001b[0;32mas\u001b[0m \u001b[0me\u001b[0m\u001b[0;34m:\u001b[0m\u001b[0;34m\u001b[0m\u001b[0;34m\u001b[0m\u001b[0m\n\u001b[1;32m    897\u001b[0m                 \u001b[0mself\u001b[0m\u001b[0;34m.\u001b[0m\u001b[0mlog\u001b[0m\u001b[0;34m.\u001b[0m\u001b[0mwarning\u001b[0m\u001b[0;34m(\u001b[0m\u001b[0;34m\"Invalid Message:\"\u001b[0m\u001b[0;34m,\u001b[0m \u001b[0mexc_info\u001b[0m\u001b[0;34m=\u001b[0m\u001b[0;32mTrue\u001b[0m\u001b[0;34m)\u001b[0m\u001b[0;34m\u001b[0m\u001b[0;34m\u001b[0m\u001b[0m\n",
            "\u001b[0;31mKeyboardInterrupt\u001b[0m: Interrupted by user"
          ]
        }
      ]
    },
    {
      "cell_type": "code",
      "source": [
        "numero = int(input(\"Digite um número de 1 a 7: \"))\n",
        "\n",
        "if numero == 1:\n",
        "    print(\"Domingo\")\n",
        "elif numero == 2:\n",
        "    print(\"Segunda-feira\")\n",
        "elif numero == 3:\n",
        "    print(\"Terça-feira\")\n",
        "elif numero == 4:\n",
        "    print(\"Quarta-feira\")\n",
        "elif numero == 5:\n",
        "    print(\"Quinta-feira\")\n",
        "elif numero == 6:\n",
        "    print(\"Sexta-feira\")\n",
        "elif numero == 7:\n",
        "    print(\"Sábado\")\n",
        "else:\n",
        "    print(\"Valor inválido\")"
      ],
      "metadata": {
        "colab": {
          "base_uri": "https://localhost:8080/"
        },
        "id": "3U66uhTSm1hB",
        "outputId": "32aa46d4-c87f-4cec-f890-a23b789dc007"
      },
      "execution_count": null,
      "outputs": [
        {
          "output_type": "stream",
          "name": "stdout",
          "text": [
            "Digite um número de 1 a 7: 7\n",
            "Sábado\n"
          ]
        }
      ]
    },
    {
      "cell_type": "code",
      "source": [
        "2\n",
        "for contador in range(1000,2001):\n",
        "  if contador % 11 ==2:\n",
        "    print (contador )"
      ],
      "metadata": {
        "colab": {
          "base_uri": "https://localhost:8080/"
        },
        "id": "fBOaPS82R5J1",
        "outputId": "7f91c9c8-7948-484b-b722-d31154902be8"
      },
      "execution_count": null,
      "outputs": [
        {
          "output_type": "stream",
          "name": "stdout",
          "text": [
            "1003\n",
            "1014\n",
            "1025\n",
            "1036\n",
            "1047\n",
            "1058\n",
            "1069\n",
            "1080\n",
            "1091\n",
            "1102\n",
            "1113\n",
            "1124\n",
            "1135\n",
            "1146\n",
            "1157\n",
            "1168\n",
            "1179\n",
            "1190\n",
            "1201\n",
            "1212\n",
            "1223\n",
            "1234\n",
            "1245\n",
            "1256\n",
            "1267\n",
            "1278\n",
            "1289\n",
            "1300\n",
            "1311\n",
            "1322\n",
            "1333\n",
            "1344\n",
            "1355\n",
            "1366\n",
            "1377\n",
            "1388\n",
            "1399\n",
            "1410\n",
            "1421\n",
            "1432\n",
            "1443\n",
            "1454\n",
            "1465\n",
            "1476\n",
            "1487\n",
            "1498\n",
            "1509\n",
            "1520\n",
            "1531\n",
            "1542\n",
            "1553\n",
            "1564\n",
            "1575\n",
            "1586\n",
            "1597\n",
            "1608\n",
            "1619\n",
            "1630\n",
            "1641\n",
            "1652\n",
            "1663\n",
            "1674\n",
            "1685\n",
            "1696\n",
            "1707\n",
            "1718\n",
            "1729\n",
            "1740\n",
            "1751\n",
            "1762\n",
            "1773\n",
            "1784\n",
            "1795\n",
            "1806\n",
            "1817\n",
            "1828\n",
            "1839\n",
            "1850\n",
            "1861\n",
            "1872\n",
            "1883\n",
            "1894\n",
            "1905\n",
            "1916\n",
            "1927\n",
            "1938\n",
            "1949\n",
            "1960\n",
            "1971\n",
            "1982\n",
            "1993\n"
          ]
        }
      ]
    },
    {
      "cell_type": "code",
      "source": [
        "3\n",
        "soma = 0\n",
        "for i in range(5):\n",
        "  numero = float(input(f\"digite o {i+1}º numero: \"))\n",
        "  soma += numero\n",
        "media = soma/5\n",
        "print(f\"A soma dos numeros e: {soma}\")\n",
        "print(f\"a media dos numeros e: {media}\")"
      ],
      "metadata": {
        "colab": {
          "base_uri": "https://localhost:8080/"
        },
        "id": "aiZ3Bt-xX4A-",
        "outputId": "d2e29390-a8b4-4fa5-d401-fc4f786299a1"
      },
      "execution_count": null,
      "outputs": [
        {
          "output_type": "stream",
          "name": "stdout",
          "text": [
            "digite o 1º numero: 5\n",
            "digite o 2º numero: 8\n",
            "digite o 3º numero: 6\n",
            "digite o 4º numero: 7\n",
            "digite o 5º numero: 9\n",
            "A soma dos numeros e: 35.0\n",
            "a media dos numeros e: 7.0\n"
          ]
        }
      ]
    },
    {
      "cell_type": "code",
      "source": [
        "4\n",
        "# Recebe o número do usuário\n",
        "numero = int(input(\"Digite um número para calcular a tabuada: \"))\n",
        "\n",
        "# Calcula e mostra a tabuada usando um laço de repetição\n",
        "print(\"Tabuada de\", numero, \":\")\n",
        "for i in range(1, 11):\n",
        "    resultado = numero * i\n",
        "    print(numero, \"x\", i, \"=\", resultado)\n"
      ],
      "metadata": {
        "id": "n63ST8WohZye"
      },
      "execution_count": null,
      "outputs": []
    },
    {
      "cell_type": "markdown",
      "source": [],
      "metadata": {
        "id": "oocaGRneE9oC"
      }
    },
    {
      "cell_type": "code",
      "source": [
        "5\n",
        "# Calcula e mostra a tabuada usando um laço de repetição\n",
        "for i in range(1, 11):\n",
        "  for j in range(2, 20):\n",
        "   resultado = i * j\n",
        "   print(i, \"x\", j, \"=\", resultado)"
      ],
      "metadata": {
        "id": "7dHgaECt2q1m"
      },
      "execution_count": null,
      "outputs": []
    },
    {
      "cell_type": "code",
      "source": [
        "6\n",
        "for i in range(1,21):\n",
        "  print(i)\n"
      ],
      "metadata": {
        "colab": {
          "base_uri": "https://localhost:8080/"
        },
        "id": "M619EgeVIQN9",
        "outputId": "4f7ffba2-15c0-4daf-884c-ce3a96f4658b"
      },
      "execution_count": null,
      "outputs": [
        {
          "output_type": "stream",
          "name": "stdout",
          "text": [
            "1\n",
            "2\n",
            "3\n",
            "4\n",
            "5\n",
            "6\n",
            "7\n",
            "8\n",
            "9\n",
            "10\n",
            "11\n",
            "12\n",
            "13\n",
            "14\n",
            "15\n",
            "16\n",
            "17\n",
            "18\n",
            "19\n",
            "20\n"
          ]
        }
      ]
    },
    {
      "cell_type": "code",
      "source": [
        "7\n",
        "for i in range(1,51):\n",
        "  if i % 2 == 1:\n",
        "    print(i)"
      ],
      "metadata": {
        "colab": {
          "base_uri": "https://localhost:8080/"
        },
        "id": "S8kOAF7kLK7U",
        "outputId": "b94a6020-574c-47cb-fdf1-8de0806d50bf"
      },
      "execution_count": null,
      "outputs": [
        {
          "output_type": "stream",
          "name": "stdout",
          "text": [
            "1\n",
            "3\n",
            "5\n",
            "7\n",
            "9\n",
            "11\n",
            "13\n",
            "15\n",
            "17\n",
            "19\n",
            "21\n",
            "23\n",
            "25\n",
            "27\n",
            "29\n",
            "31\n",
            "33\n",
            "35\n",
            "37\n",
            "39\n",
            "41\n",
            "43\n",
            "45\n",
            "47\n",
            "49\n"
          ]
        }
      ]
    },
    {
      "cell_type": "code",
      "source": [
        "9\n",
        "loja8 = 54000\n",
        "lojaA = 0\n",
        "\n",
        "for i in range(5):\n",
        "  valor = int(input(\"digite um valor\"))\n",
        "  lojaA += valor\n",
        "\n",
        "if loja8 > lojaA:\n",
        " print(\"loja8 foi a maior\")\n",
        "elif loja8 == lojaA:\n",
        "  print(\"o valor é igual\")\n",
        "else:\n",
        "  print(\"lojaA foi a maior\")"
      ],
      "metadata": {
        "id": "VbwQAzHFNmeB",
        "colab": {
          "base_uri": "https://localhost:8080/"
        },
        "outputId": "9b8c2a39-7929-4736-e6e4-7db80c446ddb"
      },
      "execution_count": null,
      "outputs": [
        {
          "name": "stdout",
          "output_type": "stream",
          "text": [
            "digite um valor55\n"
          ]
        }
      ]
    },
    {
      "cell_type": "code",
      "source": [
        "#Faça um programa que receba dois números inteiros e gere os números inteiros que estão no intervalo compreendido por eles.\n",
        "\n",
        "n1 = int(input(\"digite um numero:\"))\n",
        "n2 = int(input(\"digite outro numero: \"))\n",
        "\n",
        "for u in range(n1+1, n2):\n",
        "  print(u)"
      ],
      "metadata": {
        "id": "Jtc0xg5WRR0t",
        "colab": {
          "base_uri": "https://localhost:8080/"
        },
        "outputId": "03127915-e203-4a16-eb4f-93058b3c7eec"
      },
      "execution_count": null,
      "outputs": [
        {
          "output_type": "stream",
          "name": "stdout",
          "text": [
            "Digite o primeiro número inteiro: 10\n",
            "Digite o segundo número inteiro: 50\n",
            "Números no intervalo: [11, 12, 13, 14, 15, 16, 17, 18, 19, 20, 21, 22, 23, 24, 25, 26, 27, 28, 29, 30, 31, 32, 33, 34, 35, 36, 37, 38, 39, 40, 41, 42, 43, 44, 45, 46, 47, 48, 49]\n"
          ]
        }
      ]
    },
    {
      "cell_type": "code",
      "source": [],
      "metadata": {
        "id": "VrOzQK6cztK9"
      },
      "execution_count": null,
      "outputs": []
    },
    {
      "cell_type": "code",
      "source": [
        "10\n",
        "impar = 0\n",
        "par = 0\n",
        "for i in range(10):\n",
        "  numero = int(input(f\"digite o {i+1} numero inteiro \"))\n",
        "  if numero % 2 == 0:\n",
        "    par += 1\n",
        "  else:\n",
        "    impar += 1\n",
        "print(f\"numeros impares = {impar} e numeros pares = {par}\")"
      ],
      "metadata": {
        "id": "CvzfjpVlSiNu"
      },
      "execution_count": null,
      "outputs": []
    },
    {
      "cell_type": "code",
      "source": [
        "11\n",
        "salario = float(input(\"Digite o salario inicial do funcionario: \"))\n",
        "percentual = 0.015\n",
        "\n",
        "for i in range (1996,2025):\n",
        "  aumento = salario * percentual\n",
        "  salario += aumento\n",
        "  percentual *= 2\n",
        "print(f\"salario em {1} = (salario:.2f)\")\n"
      ],
      "metadata": {
        "id": "ruMg4-JE0yfL"
      },
      "execution_count": null,
      "outputs": []
    },
    {
      "cell_type": "code",
      "source": [
        "12\n",
        "for _ in range(5):\n",
        "    nota = int(input(\"Digite uma nota entre zero e dez: \"))\n",
        "    if 0 <= nota <= 10:\n",
        "        print(\"Nota válida:\", nota)\n",
        "        break\n",
        "    else:\n",
        "        print(\"Valor inválido. Por favor, digite uma nota entre zero e dez.\")\n",
        "else:\n",
        "    print(\"Limite de tentativas atingido. Tente novamente mais tarde.\")"
      ],
      "metadata": {
        "id": "8tKU_RlFUOhv",
        "colab": {
          "base_uri": "https://localhost:8080/"
        },
        "outputId": "c612117e-a471-4155-aa89-132957f1b05f"
      },
      "execution_count": null,
      "outputs": [
        {
          "output_type": "stream",
          "name": "stdout",
          "text": [
            "Digite uma nota entre zero e dez: 10\n",
            "Nota válida: 10\n"
          ]
        }
      ]
    },
    {
      "cell_type": "code",
      "source": [
        "13\n",
        "print(\"Valor da Compra - Porcentagem de Desconto - Valor Final\")\n",
        "\n",
        "valor_base = 500\n",
        "\n",
        "for desconto_porcentagem in range(1, 26):\n",
        "    desconto_real = valor_base * (desconto_porcentagem / 100)\n",
        "    valor_final = valor_base - desconto_real\n",
        "    print(f\"R${valor_base:.2f} - {desconto_porcentagem}% - R${valor_final:.2f}\")\n",
        "\n",
        "\n",
        "    valor_base += 100"
      ],
      "metadata": {
        "id": "eJATNZ1w9ZvV",
        "colab": {
          "base_uri": "https://localhost:8080/"
        },
        "outputId": "2d450dae-b597-4e13-eb1f-09b58aa1206c"
      },
      "execution_count": null,
      "outputs": [
        {
          "output_type": "stream",
          "name": "stdout",
          "text": [
            "Valor da Compra - Porcentagem de Desconto - Valor Final\n",
            "R$500.00 - 1% - R$495.00\n",
            "R$600.00 - 2% - R$588.00\n",
            "R$700.00 - 3% - R$679.00\n",
            "R$800.00 - 4% - R$768.00\n",
            "R$900.00 - 5% - R$855.00\n",
            "R$1000.00 - 6% - R$940.00\n",
            "R$1100.00 - 7% - R$1023.00\n",
            "R$1200.00 - 8% - R$1104.00\n",
            "R$1300.00 - 9% - R$1183.00\n",
            "R$1400.00 - 10% - R$1260.00\n",
            "R$1500.00 - 11% - R$1335.00\n",
            "R$1600.00 - 12% - R$1408.00\n",
            "R$1700.00 - 13% - R$1479.00\n",
            "R$1800.00 - 14% - R$1548.00\n",
            "R$1900.00 - 15% - R$1615.00\n",
            "R$2000.00 - 16% - R$1680.00\n",
            "R$2100.00 - 17% - R$1743.00\n",
            "R$2200.00 - 18% - R$1804.00\n",
            "R$2300.00 - 19% - R$1863.00\n",
            "R$2400.00 - 20% - R$1920.00\n",
            "R$2500.00 - 21% - R$1975.00\n",
            "R$2600.00 - 22% - R$2028.00\n",
            "R$2700.00 - 23% - R$2079.00\n",
            "R$2800.00 - 24% - R$2128.00\n",
            "R$2900.00 - 25% - R$2175.00\n"
          ]
        }
      ]
    },
    {
      "cell_type": "code",
      "source": [
        "idades = []\n",
        "\n",
        "# Recebendo as idades das 15 pessoas\n",
        "for i in range(1, 16):\n",
        "    idade = int(input(f\"Digite a idade da pessoa {i}: \"))\n",
        "    idades.append(idade)\n",
        "\n",
        "# Inicializando contadores para cada faixa etária\n",
        "ate_15_anos = 0\n",
        "de_16_a_30_anos = 0\n",
        "de_31_a_45_anos = 0\n",
        "de_46_a_60_anos = 0\n",
        "acima_de_61_anos = 0\n",
        "\n",
        "# Contando quantas pessoas estão em cada faixa etária\n",
        "for idade in idades:\n",
        "    if idade <= 15:\n",
        "        ate_15_anos += 1\n",
        "    elif 16 <= idade <= 30:\n",
        "        de_16_a_30_anos += 1\n",
        "    elif 31 <= idade <= 45:\n",
        "        de_31_a_45_anos += 1\n",
        "    elif 46 <= idade <= 60:\n",
        "        de_46_a_60_anos += 1\n",
        "    else:\n",
        "        acima_de_61_anos += 1\n",
        "\n",
        "# Calculando o total de pessoas\n",
        "total_pessoas = len(idades)\n",
        "\n",
        "# Calculando a percentagem de pessoas na primeira e última faixa etária\n",
        "percentagem_ate_15_anos = (ate_15_anos / total_pessoas) * 100\n",
        "percentagem_acima_de_61_anos = (acima_de_61_anos / total_pessoas) * 100\n",
        "\n",
        "# Exibindo os resultados\n",
        "print(\"\\nQuantidade de pessoas em cada faixa etária:\")\n",
        "print(f\"Até 15 anos: {ate_15_anos}\")\n",
        "print(f\"De 16 a 30 anos: {de_16_a_30_anos}\")\n",
        "print(f\"De 31 a 45 anos: {de_31_a_45_anos}\")\n",
        "print(f\"De 46 a 60 anos: {de_46_a_60_anos}\")\n",
        "print(f\"Acima de 61 anos: {acima_de_61_anos}\")\n",
        "\n",
        "print(\"\\nPercentagem de pessoas na primeira e na última faixa etária:\")\n",
        "print(f\"Até 15 anos: {percentagem_ate_15_anos:.2f}%\")\n",
        "print(f\"Acima de 61 anos: {percentagem_acima_de_61_anos:.2f}%\")"
      ],
      "metadata": {
        "id": "GxHk3f7F-bmR",
        "colab": {
          "base_uri": "https://localhost:8080/"
        },
        "outputId": "49801ab1-f583-4086-c3dd-8987356b2b73"
      },
      "execution_count": null,
      "outputs": [
        {
          "output_type": "stream",
          "name": "stdout",
          "text": [
            "Digite a idade da pessoa 1: 15\n",
            "Digite a idade da pessoa 2: 20\n",
            "Digite a idade da pessoa 3: 25\n",
            "Digite a idade da pessoa 4: 22\n",
            "Digite a idade da pessoa 5: 35\n",
            "Digite a idade da pessoa 6: 30\n",
            "Digite a idade da pessoa 7: 25\n",
            "Digite a idade da pessoa 8: 12\n",
            "Digite a idade da pessoa 9: 34\n",
            "Digite a idade da pessoa 10: 34\n",
            "Digite a idade da pessoa 11: 45\n",
            "Digite a idade da pessoa 12: 78\n",
            "Digite a idade da pessoa 13: 67\n",
            "Digite a idade da pessoa 14: 68\n",
            "Digite a idade da pessoa 15: 32\n",
            "\n",
            "Quantidade de pessoas em cada faixa etária:\n",
            "Até 15 anos: 2\n",
            "De 16 a 30 anos: 5\n",
            "De 31 a 45 anos: 5\n",
            "De 46 a 60 anos: 0\n",
            "Acima de 61 anos: 3\n",
            "\n",
            "Percentagem de pessoas na primeira e na última faixa etária:\n",
            "Até 15 anos: 13.33%\n",
            "Acima de 61 anos: 20.00%\n"
          ]
        }
      ]
    },
    {
      "cell_type": "code",
      "source": [
        "15\n",
        "base = float(input(\"Digite a base: \"))\n",
        "expoente = int(input(\"Digite o expoente: \"))\n",
        "\n",
        "resultado = 1\n",
        "\n",
        "for _ in range(expoente):\n",
        "    resultado *= base\n",
        "\n",
        "print(f\"{base} elevado a {expoente} é igual a {resultado}\")"
      ],
      "metadata": {
        "colab": {
          "base_uri": "https://localhost:8080/"
        },
        "id": "fBG5NReT_MKS",
        "outputId": "cbbc522d-91a4-4fc2-8f03-dbf60b49238f"
      },
      "execution_count": null,
      "outputs": [
        {
          "output_type": "stream",
          "name": "stdout",
          "text": [
            "Digite a base: 5\n",
            "Digite o expoente: 2\n",
            "5.0 elevado a 2 é igual a 25.0\n"
          ]
        }
      ]
    },
    {
      "cell_type": "code",
      "source": [
        "16\n",
        "N = int(input(\"Digite um número inteiro \"))\n",
        "primos = []\n",
        "divisoes = 0\n",
        "\n",
        "for num in range(2, N + 1):\n",
        "    primo = True\n",
        "    for i in range(2, int(num**0.5) + 1):\n",
        "        divisoes += 1\n",
        "        if num % i == 0:\n",
        "            primo = False\n",
        "            break\n",
        "    if primo:\n",
        "        primos += [num]\n",
        "\n",
        "print(\"Números primos entre 1 e\", N, primos)\n",
        "print(\"Número total de divisões realizadas:\", divisoes)"
      ],
      "metadata": {
        "colab": {
          "base_uri": "https://localhost:8080/"
        },
        "id": "MJ-WgVbf_v-a",
        "outputId": "3b466598-f01d-4214-fa44-0ffc586b6b67"
      },
      "execution_count": null,
      "outputs": [
        {
          "output_type": "stream",
          "name": "stdout",
          "text": [
            "Digite um número inteiro 15\n",
            "Números primos entre 1 e 15 [2, 3, 5, 7, 11, 13]\n",
            "Número total de divisões realizadas: 16\n"
          ]
        }
      ]
    }
  ]
}